{
  "nbformat": 4,
  "nbformat_minor": 0,
  "metadata": {
    "colab": {
      "provenance": [],
      "include_colab_link": true
    },
    "kernelspec": {
      "name": "python3",
      "display_name": "Python 3"
    },
    "language_info": {
      "name": "python"
    }
  },
  "cells": [
    {
      "cell_type": "markdown",
      "metadata": {
        "id": "view-in-github",
        "colab_type": "text"
      },
      "source": [
        "<a href=\"https://colab.research.google.com/github/gilboaerel/HW_AI_COURSE_EREL/blob/main/HW_1_Erel.ipynb\" target=\"_parent\"><img src=\"https://colab.research.google.com/assets/colab-badge.svg\" alt=\"Open In Colab\"/></a>"
      ]
    },
    {
      "cell_type": "markdown",
      "source": [
        "i want you to be today a programer that know how to code with python and expert in using google colab"
      ],
      "metadata": {
        "id": "XTZWBY5QOxtU"
      }
    },
    {
      "cell_type": "markdown",
      "source": [
        "i want you to create an array 250 on 250 that include a cube sized 50 on 50 in the center of the array that all have the value 100, also i want all the other fields in the array to fill with 0. and for ending i want you to print me an image in \"gray level image\" with the scale 0-255 that 0 is black and white is 255.  "
      ],
      "metadata": {
        "id": "Pkwl9h9NO7Rw"
      }
    },
    {
      "cell_type": "code",
      "execution_count": 1,
      "metadata": {
        "colab": {
          "base_uri": "https://localhost:8080/",
          "height": 435
        },
        "id": "AFswJQJzGPlm",
        "outputId": "2d29fdba-7e0f-4588-9d86-fcb1598b517a"
      },
      "outputs": [
        {
          "output_type": "display_data",
          "data": {
            "text/plain": [
              "<Figure size 640x480 with 2 Axes>"
            ],
            "image/png": "[encoded data removed]"
          },
          "metadata": {}
        }
      ],
      "source": [
        "import numpy as np\n",
        "import matplotlib.pyplot as plt\n",
        "\n",
        "# Create a 250x250 array filled with zeros\n",
        "array_size = 250\n",
        "image_array = np.zeros((array_size, array_size), dtype=np.uint8)\n",
        "\n",
        "# Define the dimensions of the cube (50x50) and its value\n",
        "cube_size = 50\n",
        "cube_value = 100\n",
        "\n",
        "# Calculate the indices to place the cube in the center of the array\n",
        "start_row = (array_size - cube_size) // 2\n",
        "end_row = start_row + cube_size\n",
        "start_col = (array_size - cube_size) // 2\n",
        "end_col = start_col + cube_size\n",
        "\n",
        "# Fill the center of the array with the cube value\n",
        "image_array[start_row:end_row, start_col:end_col] = cube_value\n",
        "\n",
        "# Display the resulting image\n",
        "plt.imshow(image_array, cmap='gray', vmin=0, vmax=255)\n",
        "plt.colorbar()\n",
        "plt.show()\n"
      ]
    },
    {
      "cell_type": "markdown",
      "source": [
        "Now I would like you to create a video where you see the cube we created descend at a 45 angle downward from the top left corner to the bottom right corner."
      ],
      "metadata": {
        "id": "CGV7V0-mO9Hc"
      }
    },
    {
      "cell_type": "code",
      "source": [
        "import cv2\n",
        "import numpy as np\n",
        "\n",
        "# Parameters\n",
        "array_size = 250\n",
        "cube_size = 50\n",
        "cube_value = 100\n",
        "\n",
        "# Create a video writer object\n",
        "video_writer = cv2.VideoWriter('cube_descent.avi', cv2.VideoWriter_fourcc(*'XVID'), 20, (array_size, array_size))\n",
        "\n",
        "# Create frames for the video\n",
        "for i in range(array_size - cube_size + 1):\n",
        "    # Create a new frame\n",
        "    frame = np.zeros((array_size, array_size), dtype=np.uint8)\n",
        "\n",
        "    # Calculate the position of the cube based on the iteration\n",
        "    start_row = i\n",
        "    end_row = start_row + cube_size\n",
        "    start_col = i\n",
        "    end_col = start_col + cube_size\n",
        "\n",
        "    # Fill the cube in the frame\n",
        "    frame[start_row:end_row, start_col:end_col] = cube_value\n",
        "\n",
        "    # Write the frame to the video\n",
        "    video_writer.write(cv2.cvtColor(frame, cv2.COLOR_GRAY2BGR))\n",
        "\n",
        "# Release the video writer\n",
        "video_writer.release()\n",
        "\n",
        "print(\"Video created successfully.\")\n"
      ],
      "metadata": {
        "colab": {
          "base_uri": "https://localhost:8080/"
        },
        "id": "AsGr-wbRHpTa",
        "outputId": "289b46d2-8b28-4186-934a-df2d04795a93"
      },
      "execution_count": 2,
      "outputs": [
        {
          "output_type": "stream",
          "name": "stdout",
          "text": [
            "Video created successfully.\n"
          ]
        }
      ]
    },
    {
      "cell_type": "markdown",
      "source": [
        "Now I need you to create a tracker that will follow the cube and mark it for every frame,  I want you to write code that will receive as input the video we created and as output output a video where the cube is surrounded for the entire length of the video. note that the starting place of the cube is (0,0)."
      ],
      "metadata": {
        "id": "30FR-9GlP9Vg"
      }
    },
    {
      "cell_type": "code",
      "source": [
        "import cv2\n",
        "from google.colab.patches import cv2_imshow\n",
        "\n",
        "# Function to create a video with the tracked cube\n",
        "def track_cube(input_video, output_video):\n",
        "    # Open the input video\n",
        "    cap = cv2.VideoCapture(input_video)\n",
        "\n",
        "    # Get the first frame\n",
        "    ret, frame = cap.read()\n",
        "\n",
        "    # Define the region of interest (ROI) around the cube in the first frame\n",
        "    roi = (0, 0, 50, 50)  # x, y, width, height\n",
        "\n",
        "    # Display the initial frame with the specified ROI\n",
        "    init_frame = frame.copy()\n",
        "    cv2.rectangle(init_frame, (roi[0], roi[1]), (roi[0] + roi[2], roi[1] + roi[3]), (0, 255, 0), 2)\n",
        "    cv2_imshow(init_frame)\n",
        "\n",
        "    # Initialize the tracker with the first frame and ROI\n",
        "    tracker = cv2.TrackerKCF_create()\n",
        "    tracker.init(frame, (roi[0], roi[1], roi[2], roi[3]))\n",
        "\n",
        "    # Get video properties\n",
        "    frame_width = int(cap.get(3))\n",
        "    frame_height = int(cap.get(4))\n",
        "\n",
        "    # Create a video writer object for the output video\n",
        "    video_writer = cv2.VideoWriter(output_video, cv2.VideoWriter_fourcc(*'XVID'), 20, (frame_width, frame_height))\n",
        "\n",
        "    while True:\n",
        "        # Read a new frame\n",
        "        ret, frame = cap.read()\n",
        "\n",
        "        if not ret:\n",
        "            break\n",
        "\n",
        "        # Update the tracker\n",
        "        success, roi = tracker.update(frame)\n",
        "\n",
        "        if success:\n",
        "            # Convert the coordinates to integers\n",
        "            roi = tuple(map(int, roi))\n",
        "\n",
        "            # Draw a rectangle around the tracked cube\n",
        "            cv2.rectangle(frame, (roi[0], roi[1]), (roi[0] + roi[2], roi[1] + roi[3]), (0, 255, 0), 2)\n",
        "\n",
        "        # Write the frame to the output video\n",
        "        video_writer.write(frame)\n",
        "\n",
        "    # Release the video writer and capture objects\n",
        "    video_writer.release()\n",
        "    cap.release()\n",
        "\n",
        "    print(\"Tracking completed. Output video saved as\", output_video)\n",
        "\n",
        "# Call the function with the input and output video filenames\n",
        "track_cube(\"cube_descent.avi\", \"tracked_cube.avi\")\n",
        "\n"
      ],
      "metadata": {
        "colab": {
          "base_uri": "https://localhost:8080/",
          "height": 284
        },
        "id": "bmfcujQvIVQr",
        "outputId": "1c1d4051-b32d-4e9b-a3c5-cad87d7fed26"
      },
      "execution_count": 3,
      "outputs": [
        {
          "output_type": "display_data",
          "data": {
            "text/plain": [
              "<PIL.Image.Image image mode=RGB size=250x250>"
            ],
            "image/png": "[encoded data removed]"
          },
          "metadata": {}
        },
        {
          "output_type": "stream",
          "name": "stdout",
          "text": [
            "Tracking completed. Output video saved as tracked_cube.avi\n"
          ]
        }
      ]
    },
    {
      "cell_type": "markdown",
      "source": [
        "Now I want you to print below the cube the coordinates of the center of the cube in every frame of the video."
      ],
      "metadata": {
        "id": "5-JkCXWwQIuE"
      }
    },
    {
      "cell_type": "code",
      "source": [
        "import cv2\n",
        "from google.colab.patches import cv2_imshow\n",
        "\n",
        "# Function to create a video with the tracked cube and print coordinates\n",
        "def track_cube(input_video, output_video):\n",
        "    # Open the input video\n",
        "    cap = cv2.VideoCapture(input_video)\n",
        "\n",
        "    # Get the first frame\n",
        "    ret, frame = cap.read()\n",
        "\n",
        "    # Define the initial position of the cube in the first frame\n",
        "    initial_position = (0,0, 50, 50)  # x, y, width, height\n",
        "\n",
        "    # Display the initial frame with the specified initial position\n",
        "    init_frame = frame.copy()\n",
        "    cv2.rectangle(init_frame, (initial_position[0], initial_position[1]),\n",
        "                  (initial_position[0] + initial_position[2], initial_position[1] + initial_position[3]), (0, 255, 0), 2)\n",
        "    cv2_imshow(init_frame)\n",
        "\n",
        "    # Initialize the tracker with the first frame and initial position\n",
        "    tracker = cv2.TrackerKCF_create()\n",
        "    tracker.init(frame, tuple(initial_position))\n",
        "\n",
        "    # Get video properties\n",
        "    frame_width = int(cap.get(3))\n",
        "    frame_height = int(cap.get(4))\n",
        "\n",
        "    # Create a video writer object for the output video\n",
        "    video_writer = cv2.VideoWriter(output_video, cv2.VideoWriter_fourcc(*'XVID'), 20, (frame_width, frame_height))\n",
        "\n",
        "    while True:\n",
        "        # Read a new frame\n",
        "        ret, frame = cap.read()\n",
        "\n",
        "        if not ret:\n",
        "            break\n",
        "\n",
        "        # Update the tracker\n",
        "        success, roi = tracker.update(frame)\n",
        "\n",
        "        if success:\n",
        "            # Convert the coordinates to integers\n",
        "            roi = tuple(map(int, roi))\n",
        "\n",
        "            # Draw a rectangle around the tracked cube\n",
        "            cv2.rectangle(frame, (roi[0], roi[1]), (roi[0] + roi[2], roi[1] + roi[3]), (0, 255, 0), 2)\n",
        "\n",
        "            # Calculate the center coordinates of the tracked cube\n",
        "            center_x = roi[0] + roi[2] // 2\n",
        "            center_y = roi[1] + roi[3] // 2\n",
        "\n",
        "            # Print the center coordinates below the cube\n",
        "            cv2.putText(frame, f\"Center: ({center_x}, {center_y})\", (roi[0], roi[1] + roi[3] + 20),\n",
        "                        cv2.FONT_HERSHEY_SIMPLEX, 0.5, (255, 255, 255), 2)\n",
        "\n",
        "        # Write the frame to the output video\n",
        "        video_writer.write(frame)\n",
        "\n",
        "    # Release the video writer and capture objects\n",
        "    video_writer.release()\n",
        "    cap.release()\n",
        "\n",
        "    print(\"Tracking completed. Output video saved as\", output_video)\n",
        "\n",
        "# Call the function with the input and output video filenames\n",
        "track_cube(\"cube_descent.avi\", \"tracked_cube_with_coordinates.avi\")\n"
      ],
      "metadata": {
        "colab": {
          "base_uri": "https://localhost:8080/",
          "height": 284
        },
        "id": "3C2qLvYROb3s",
        "outputId": "a92b9d22-93de-4bc5-e077-5339895daf73"
      },
      "execution_count": 4,
      "outputs": [
        {
          "output_type": "display_data",
          "data": {
            "text/plain": [
              "<PIL.Image.Image image mode=RGB size=250x250>"
            ],
            "image/png": "[encoded data removed]"
          },
          "metadata": {}
        },
        {
          "output_type": "stream",
          "name": "stdout",
          "text": [
            "Tracking completed. Output video saved as tracked_cube_with_coordinates.avi\n"
          ]
        }
      ]
    }
  ]
}